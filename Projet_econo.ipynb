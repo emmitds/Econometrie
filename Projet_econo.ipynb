{
  "cells": [
    {
      "cell_type": "markdown",
      "metadata": {
        "id": "view-in-github",
        "colab_type": "text"
      },
      "source": [
        "<a href=\"https://colab.research.google.com/github/emmitds/Econometrie/blob/master/Projet_econo.ipynb\" target=\"_parent\"><img src=\"https://colab.research.google.com/assets/colab-badge.svg\" alt=\"Open In Colab\"/></a>"
      ]
    },
    {
      "cell_type": "markdown",
      "id": "9088e9a0",
      "metadata": {
        "id": "9088e9a0"
      },
      "source": [
        "# Projet d'économétrie : le modèle création-destruction d' Aghion et d'Howitt\n"
      ]
    },
    {
      "cell_type": "markdown",
      "id": "b36139be",
      "metadata": {
        "id": "b36139be"
      },
      "source": [
        "### **<span style='color:blue'>Fait par E. Todosijevic et Cherine Rhellab</span>**"
      ]
    },
    {
      "cell_type": "markdown",
      "id": "ccf10ce4",
      "metadata": {
        "id": "ccf10ce4"
      },
      "source": [
        "Le modèle d'Aghion et Howitt constitue une approche de croissance économique basée sur le processus schumpétérien de création et destruction. Selon ce modèle, la croissance économique est exclusivement permise par le progrès technique, résultant de la compétition entre les entreprises engagées dans la recherche et l'innovation.\n",
        "\n",
        "Chaque innovation se traduit par un nouveau bien intermédiaire qui permet une production plus efficace que ce qui etait permis auparavant. Les firmes qui font de la recherche sont motivées par la possibilité de générer une rente de monopole si la recherche est brevetée. Ces rentes seront à leur tour détruites par une autre innovation.\n",
        "\n",
        "Dans le cadre de ce modèle, à chaque période un ou une entrepreneur a l’opportunité de mener un projet de recherche pour innover. La probabilité de succès à chaque période est alors notée :\n",
        "\n",
        "$$\\mu_t = \\lambda \\left( \\frac{R}{\\gamma A_{t-1}} \\right)^{\\sigma}$$\n",
        "\n",
        "avec $R$ les dépenses de R&D et $A_{t-1}$ la productivité totale des facteurs à la période précédente\n",
        "\n",
        "Quand le projet de recherche réussi, il donne lieu à une innovation drastique: le nouveau bien intermédiaire résultant de cette innovation remplace l'ancien. (Exemple : télévisions noire et blanc VS télévision en couleur).\n",
        "\n",
        "Dans cette dynamique, les emplois associés à la production de l'ancien bien intermédiaire peuvent être affectés de manière négative, voire supprimés, car l'innovation rend l'ancienne technologie obsolète. Cependant, parallèlement à cette destruction d'emplois, l'innovation ouvre la voie à la création de nouveaux emplois dans les secteurs liés à la production du nouveau bien intermédiaire.\n",
        "\n",
        "Partant de cette idée, nous voulons voir comment cette théorie fonctionne dans la réalité en utilisant des données concrètes.\n",
        "Pour cela, nous allons utiliser 3 séries temporelles:\n",
        "\n",
        "Le **chômage** aux Etats-Unis entre 1970 et 2021, permettant de rendre compte de la potentielle création ou destruction d'emploi, qui serait-elle même expliquée par :\n",
        "\n",
        "Les **dépenses de R&D** aux Etats-Unis entre 1970 et 2021, qui participent à augmenter la probabilité d'innovation et donc de destruction d'emploi, mais aussi,\n",
        "\n",
        "La **productivité du travail** aux Etats-Unis entre 1970 et 2021, qui participe à diminuer la probabilité d'innovation de la *période suivante*."
      ]
    },
    {
      "cell_type": "markdown",
      "id": "dfda02b9",
      "metadata": {
        "id": "dfda02b9"
      },
      "source": [
        "## Importation et visualisation des données"
      ]
    },
    {
      "cell_type": "markdown",
      "id": "bed0b1ba",
      "metadata": {
        "id": "bed0b1ba"
      },
      "source": [
        "Pour commencer, nous allons charger les packages dont nous avons besoin pour réaliser ce projet. Veuillez noter que dans notre cas, ces derniers sont déjà installés. Si ce n'est pas votre cas, veuillez faire tourner la ligne de code commençant par un #."
      ]
    },
    {
      "cell_type": "code",
      "execution_count": 2,
      "id": "aced0068",
      "metadata": {
        "colab": {
          "base_uri": "https://localhost:8080/"
        },
        "id": "aced0068",
        "outputId": "9ec89ae7-adbe-4e28-a4d2-4a9b6bfb3a4d"
      },
      "outputs": [
        {
          "output_type": "stream",
          "name": "stderr",
          "text": [
            "Installing package into ‘/usr/local/lib/R/site-library’\n",
            "(as ‘lib’ is unspecified)\n",
            "\n",
            "Installing package into ‘/usr/local/lib/R/site-library’\n",
            "(as ‘lib’ is unspecified)\n",
            "\n",
            "Installing package into ‘/usr/local/lib/R/site-library’\n",
            "(as ‘lib’ is unspecified)\n",
            "\n"
          ]
        }
      ],
      "source": [
        "install.packages(\"readxl\")\n",
        "install.packages(\"ggplot2\")\n",
        "install.packages(\"urca\")"
      ]
    },
    {
      "cell_type": "code",
      "execution_count": 3,
      "id": "5f8d90a5",
      "metadata": {
        "scrolled": true,
        "id": "5f8d90a5"
      },
      "outputs": [],
      "source": [
        "library(\"readxl\")\n",
        "library(\"ggplot2\")\n",
        "library(\"stats\")\n",
        "library(\"urca\")"
      ]
    },
    {
      "cell_type": "markdown",
      "id": "f9fc91a2",
      "metadata": {
        "id": "f9fc91a2"
      },
      "source": [
        "Maintenant, il convient d'importer la base de données, qui se trouve dans un fichier Excel et l'affecter à \"Base\".\n",
        "\n",
        "*Attention, dans la légende, il est écrit que le chômage et les dépenses de R&D sont en %, ce qui ne sera pas le cas dans notre data frame afin de pouvoir log-linéariser nos données.*"
      ]
    },
    {
      "cell_type": "code",
      "execution_count": 19,
      "id": "a9fd3bee",
      "metadata": {
        "colab": {
          "base_uri": "https://localhost:8080/",
          "height": 194
        },
        "id": "a9fd3bee",
        "outputId": "66cfb3a2-e5a2-4927-b3df-442f3607d7dc"
      },
      "outputs": [
        {
          "output_type": "error",
          "ename": "ERROR",
          "evalue": "ignored",
          "traceback": [
            "Error: `path` does not exist: ‘C:/Users/emmit/OneDrive/Bureau/Projet econo M1/BaseDonnées.xlsx’\nTraceback:\n",
            "1. read_excel(\"C:/Users/emmit/OneDrive/Bureau/Projet econo M1/BaseDonnées.xlsx\", \n .     sheet = \"Jointure des bases de données\")",
            "2. check_file(path)",
            "3. stop(\"`path` does not exist: \", sQuote(path), call. = FALSE)"
          ]
        }
      ],
      "source": [
        "Base <- read_excel(\"C:/Users/emmit/OneDrive/Bureau/Projet econo M1/BaseDonnées.xlsx\",sheet = \"Jointure des bases de données\")"
      ]
    },
    {
      "cell_type": "markdown",
      "id": "d71c94ae",
      "metadata": {
        "id": "d71c94ae"
      },
      "source": [
        "Afin de mieux visualiser notre base de données, nous allons la convertir en un DataFrame."
      ]
    },
    {
      "cell_type": "code",
      "execution_count": null,
      "id": "35728fd2",
      "metadata": {
        "id": "35728fd2"
      },
      "outputs": [],
      "source": [
        "Base <- as.data.frame(Base)"
      ]
    },
    {
      "cell_type": "markdown",
      "id": "26dc47f0",
      "metadata": {
        "id": "26dc47f0"
      },
      "source": [
        "On décomposes notre data frame pour avoir un data frame par série temporelle."
      ]
    },
    {
      "cell_type": "code",
      "execution_count": null,
      "id": "aa1c0246",
      "metadata": {
        "id": "aa1c0246"
      },
      "outputs": [],
      "source": [
        "chômage = Base$`Chômage aux Etats-Unis (en % du PIB, moyenne du chômage trimestriel)`\n",
        "dépenses = Base$`Dépenses en R&D (en % du PIB) des Etats Unis`\n",
        "productivité <- Base$`Productivité du travail (PIB par heure travaillée) des Etats Unis`\n",
        "\n",
        "data_chômage <- data.frame(dates = Base$Dates,chômage)\n",
        "\n",
        "data_dépenses <- data.frame(dates = Base$Dates,dépenses)\n",
        "\n",
        "data_productivité <- data.frame(dates = Base$Dates,productivité)"
      ]
    },
    {
      "cell_type": "markdown",
      "id": "695e93c6",
      "metadata": {
        "id": "695e93c6"
      },
      "source": [
        "## Représentations graphiques, autocorrélogrammes simples et autocorrélogrammes partiels par séries"
      ]
    },
    {
      "cell_type": "markdown",
      "id": "aafe5c39",
      "metadata": {
        "id": "aafe5c39"
      },
      "source": [
        "### 1. Le chômage aux Etats-Unis entre 1970 et 2021"
      ]
    },
    {
      "cell_type": "markdown",
      "id": "37a0135a",
      "metadata": {
        "id": "37a0135a"
      },
      "source": [
        "<span style=\"color:black;\"><ins>Etape préliminaire</ins> : transformation des données en log pour donner davantage d'importance aux faibles variations et pour réduire l'hétéroscédasticité. </span>"
      ]
    },
    {
      "cell_type": "code",
      "execution_count": null,
      "id": "fe0cb125",
      "metadata": {
        "id": "fe0cb125",
        "outputId": "3a8913ec-e0c2-445e-a54a-d534fdc4c457"
      },
      "outputs": [
        {
          "name": "stderr",
          "output_type": "stream",
          "text": [
            "Warning message in chômage$logPIB <- log(chômage):\n",
            "\"Conversion automatique de LHS en liste\""
          ]
        }
      ],
      "source": [
        "chômage$logPIB <- log(chômage)"
      ]
    },
    {
      "cell_type": "markdown",
      "id": "28aa08b0",
      "metadata": {
        "id": "28aa08b0"
      },
      "source": [
        "Création d'un data frame avec le chômage et les dates pour faciliter la construction du graphique."
      ]
    },
    {
      "cell_type": "code",
      "execution_count": null,
      "id": "b63621d7",
      "metadata": {
        "id": "b63621d7"
      },
      "outputs": [],
      "source": [
        "data_chômagelog <- data.frame(dates = Base$Dates,chômage$logPIB)"
      ]
    },
    {
      "cell_type": "markdown",
      "id": "9d9362fd",
      "metadata": {
        "id": "9d9362fd"
      },
      "source": [
        "### Représentation graphique"
      ]
    },
    {
      "cell_type": "markdown",
      "id": "b65ee7f2",
      "metadata": {
        "id": "b65ee7f2"
      },
      "source": [
        "<ins>Etape préliminaire</ins> : ajustement de la taille des graphiques"
      ]
    },
    {
      "cell_type": "code",
      "execution_count": null,
      "id": "9280aef3",
      "metadata": {
        "id": "9280aef3"
      },
      "outputs": [],
      "source": [
        "options(repr.plot.width = 4, repr.plot.height = 4)"
      ]
    },
    {
      "cell_type": "code",
      "execution_count": null,
      "id": "61e62204",
      "metadata": {
        "id": "61e62204",
        "outputId": "12012816-356c-4ba0-ce3c-e023869c13a8"
      },
      "outputs": [
        {
          "data": {
            "image/png": "[encoded data removed]",
            "text/plain": [
              "plot without title"
            ]
          },
          "metadata": {},
          "output_type": "display_data"
        }
      ],
      "source": [
        "p_chomage <- ggplot(data = data_chômagelog, aes(x = dates, y = chômage$logPIB)) +\n",
        "  geom_point(color = 'red') +\n",
        "  geom_line(color = 'red') +\n",
        "  xlab('Date') +\n",
        "  ylab('Taux de chômage') +\n",
        "  labs(y = \"Chômage log-linéarisé\", title = \"Taux de chômage aux États-Unis\", subtitle = \"de 1970 à 2021\") +\n",
        "  theme(\n",
        "    plot.title = element_text(size = 13, face = \"bold\"),\n",
        "    plot.subtitle = element_text(size = 12),\n",
        "    axis.text = element_text(size = 9),\n",
        "    axis.title = element_text(size = 12, face = \"bold\")\n",
        "  )\n",
        "\n",
        "print(p_chomage)\n"
      ]
    },
    {
      "cell_type": "markdown",
      "id": "d88fa64c",
      "metadata": {
        "id": "d88fa64c"
      },
      "source": [
        "<span style=\"color:purple;\">**<ins>Commentaire<ins>** :\n",
        "\n",
        "<span style=\"color:purple;\">Le taux de chômage aux Etats-Unis connait des fortes fluctuations sur la période estimée. De manière plus précise, le chômage évolue de manière cyclique : il atteint des niveaux relativement hauts pendant les périodes de crises économiques (1973 - choc pétrolier, 2000 - bulle internet, 2008 - Subprimes et 2020 - COVID19) puis redescend en période de reprise et de croissance.</span>\n",
        "    \n",
        "<span style=\"color:purple;\"> Par exemple, pendant la crise de 2008, les entreprises, confrontées à des conditions économiques difficiles, ont réagi en réduisant leurs effectifs pour faire face à la baisse de la demande et à l'incertitude financière.Le secteur financier a été particulièrement touché, avec des faillites bancaires et des pertes massives, entraînant des suppressions d'emplois dans ce secteur.</span>\n",
        "    \n",
        "<span style=\"color:purple;\">A première vue, la moyenne de la série semble constante au fil du temps, cela suggère une stationnarité en moyenne. Néanmoins les fluctuations de la série connaissent des amplitudes différentes ce qui suggère une non-stationnarité en variance.</span>\n",
        "\n",
        "<span style=\"color:purple;\">Par conséquent, il est difficile de se prononcer sur la stationnarité de la série.</span>"
      ]
    },
    {
      "cell_type": "markdown",
      "id": "109c2212",
      "metadata": {
        "id": "109c2212"
      },
      "source": [
        "### Autocorrélogramme simple"
      ]
    },
    {
      "cell_type": "markdown",
      "id": "2e6168f8",
      "metadata": {
        "id": "2e6168f8"
      },
      "source": [
        "Afin de réussir à faire un autocorrélogramme, on converti la liste \"chômage\" en un vecteur numérique puis en un objet de type série temporelle."
      ]
    },
    {
      "cell_type": "code",
      "execution_count": null,
      "id": "92ff8457",
      "metadata": {
        "id": "92ff8457",
        "outputId": "9bc189d2-01da-421f-f688-ec7c6e7e33c7"
      },
      "outputs": [
        {
          "data": {
            "image/png": "[encoded data removed]",
            "text/plain": [
              "Plot with title \"ACF - Chômage\""
            ]
          },
          "metadata": {},
          "output_type": "display_data"
        }
      ],
      "source": [
        "acf_chômage <- acf(data_chômage$chômage, main = \"ACF - Chômage\")"
      ]
    },
    {
      "cell_type": "markdown",
      "id": "e1e4b2db",
      "metadata": {
        "id": "e1e4b2db"
      },
      "source": [
        "<span style=\"color:green;\">**<ins>Commentaire<ins>** : Les autocorrélations sont significatives et décroissantes jusqu'au retard 3. </span>"
      ]
    },
    {
      "cell_type": "markdown",
      "id": "18d091b1",
      "metadata": {
        "id": "18d091b1"
      },
      "source": [
        "###  Autocorrélogramme partiel"
      ]
    },
    {
      "cell_type": "code",
      "execution_count": null,
      "id": "6131e056",
      "metadata": {
        "id": "6131e056",
        "outputId": "f163332f-b56f-41f9-86c3-dd7516fe4479"
      },
      "outputs": [
        {
          "data": {
            "image/png": "[encoded data removed]",
            "text/plain": [
              "Plot with title \"PACF - Chômage\""
            ]
          },
          "metadata": {},
          "output_type": "display_data"
        }
      ],
      "source": [
        "pacf_chômage <- pacf(data_chômage$chômage, main = \"PACF - Chômage\")"
      ]
    },
    {
      "cell_type": "markdown",
      "id": "6bd88c40",
      "metadata": {
        "id": "6bd88c40"
      },
      "source": [
        "<span style=\"color:green;\">**<ins>Commentaire<ins>** : Aucune autocorrélation partielle n'est significativement différente de 0.</span>"
      ]
    },
    {
      "cell_type": "markdown",
      "id": "6794a920",
      "metadata": {
        "id": "6794a920"
      },
      "source": [
        " ### 2. Les dépenses de R&D aux Etats-Unis de 1970 à 2021"
      ]
    },
    {
      "cell_type": "markdown",
      "id": "8811e97b",
      "metadata": {
        "id": "8811e97b"
      },
      "source": [
        "<ins>Etape préliminaire</ins> : transformation des données en log pour donner davantage d'importance aux faibles variations et pour"
      ]
    },
    {
      "cell_type": "code",
      "execution_count": null,
      "id": "1b0ad85a",
      "metadata": {
        "id": "1b0ad85a",
        "outputId": "b5e9322f-5fc6-4d25-a884-1aa5e2a36ce7"
      },
      "outputs": [
        {
          "name": "stderr",
          "output_type": "stream",
          "text": [
            "Warning message in dépenses$logPIB <- log(dépenses):\n",
            "\"Conversion automatique de LHS en liste\""
          ]
        }
      ],
      "source": [
        "dépenses$logPIB <- log(dépenses)"
      ]
    },
    {
      "cell_type": "markdown",
      "id": "81946f4c",
      "metadata": {
        "id": "81946f4c"
      },
      "source": [
        "Création d'un data frame avec le chômage et les dates pour faciliter la construction du graphique."
      ]
    },
    {
      "cell_type": "code",
      "execution_count": null,
      "id": "f1f721a5",
      "metadata": {
        "id": "f1f721a5"
      },
      "outputs": [],
      "source": [
        "data <- data.frame(\n",
        "  dates = Base$Dates,\n",
        "  dépenses$logPIB\n",
        ")"
      ]
    },
    {
      "cell_type": "markdown",
      "id": "4364988b",
      "metadata": {
        "id": "4364988b"
      },
      "source": [
        "#### Affichage du graphique"
      ]
    },
    {
      "cell_type": "code",
      "execution_count": null,
      "id": "b902830a",
      "metadata": {
        "id": "b902830a",
        "outputId": "c94f9959-ab2b-4708-97c4-006e7a3d49a3"
      },
      "outputs": [
        {
          "data": {
            "image/png": "[encoded data removed]",
            "text/plain": [
              "plot without title"
            ]
          },
          "metadata": {},
          "output_type": "display_data"
        }
      ],
      "source": [
        "p_dépenses <- ggplot(data = data, aes(x = dates, y = dépenses$logPIB)) +\n",
        "  geom_point(color = 'red') +\n",
        "  geom_line(color = 'red') +\n",
        "  xlab('Date') +\n",
        "  ylab('Dépenses de R&D') +\n",
        "  labs(y = \"Dépenses\", title = \"Dépenses de R&D aux Etats-Unis\", subtitle = \"de 1970 à 2021\") +\n",
        "  theme(\n",
        "    plot.title = element_text(size = 13, face = \"bold\"),\n",
        "    plot.subtitle = element_text(size = 12),\n",
        "    axis.text = element_text(size = 9),\n",
        "    axis.title = element_text(size = 12, face = \"bold\")\n",
        "  )\n",
        "\n",
        "print(p_dépenses)\n"
      ]
    },
    {
      "cell_type": "markdown",
      "id": "a2f5f430",
      "metadata": {
        "id": "a2f5f430"
      },
      "source": [
        "<span style=\"color:purple;\">**<ins>Commentaire<ins>** :\n",
        "\n",
        "<span style=\"color:purple;\">Les dépenses de R&D aux Etats-Unis ont une allure globalement croissante sur la période estimée. On peut découper la série en deux périodes :</span>\n",
        "    \n",
        "<span style=\"color:purple;\"> **1) 1970 - 1985 : Forte croissance des dépenses de R&D**</span><br>\n",
        "<span style=\"color:purple;\">Augmentation significative des dépenses de R&D aux États-Unis expliquées par des avancées technologiques significatives telles que l'émergence de l'industrie des logiciels (création de Microsoft en 1975) et la naissance de l'industrie du jeu vidéo (Pong en 1972, qui est un des premiers jeux vidéo d'arcade).</span>\n",
        "    \n",
        "<span style=\"color:purple;\"> **2) 1985 - 2021 : Ralentissement de la croissance des dépenses de R&D** </span><br>\n",
        "<span style=\"color:purple;\">Ce ralentissement peut s'expliquer par le fait qu'une fois que les innovations fondamentales ont été développées, chaque étape suivante pour les améliorer devient plus complexe, exigeant des dépenses de R&D plus importantes (besoin des ressources humaines hautement qualifiées, des équipements de pointe et des infrastructures spécialisées) pour des gains proportionnellement moindres.</span>\n",
        "    \n",
        "<span style=\"color:purple;\">Comme il y a une tendance haussière, la moyenne de la série ne semble constante au fil du temps, cela suggère une non-stationnarité en moyenne.</span>\n",
        "\n",
        "<span style=\"color:purple;\">Par conséquent, on peut émettre l'hypothèse de la non stationnarité de la série.</span>"
      ]
    },
    {
      "cell_type": "markdown",
      "id": "32052f69",
      "metadata": {
        "id": "32052f69"
      },
      "source": [
        "### Autocorrélogramme simple"
      ]
    },
    {
      "cell_type": "code",
      "execution_count": null,
      "id": "171c7f01",
      "metadata": {
        "id": "171c7f01",
        "outputId": "0f76ced7-5615-461d-a26e-b2ea7c0a8388"
      },
      "outputs": [
        {
          "data": {
            "image/png": "[encoded data removed]",
            "text/plain": [
              "Plot with title \"ACF - Dépenses de R&D\""
            ]
          },
          "metadata": {},
          "output_type": "display_data"
        }
      ],
      "source": [
        "acf_dépenses <- acf(data_dépenses$dépenses, main = \"ACF - Dépenses de R&D\")"
      ]
    },
    {
      "cell_type": "markdown",
      "id": "12eee216",
      "metadata": {
        "id": "12eee216"
      },
      "source": [
        "<span style=\"color:blue;\">**<ins>Commentaire<ins>** : Le taux de chômage aux Etats-Unis connait des grandes fluctuations sur toute la période estimée</span>"
      ]
    },
    {
      "cell_type": "markdown",
      "id": "7ed6fc13",
      "metadata": {
        "id": "7ed6fc13"
      },
      "source": [
        "###  Autocorrélogramme partiel"
      ]
    },
    {
      "cell_type": "code",
      "execution_count": null,
      "id": "8d34fb49",
      "metadata": {
        "id": "8d34fb49",
        "outputId": "eec43149-421e-48d0-999e-6b9d36ca2c97"
      },
      "outputs": [
        {
          "data": {
            "image/png": "[encoded data removed]",
            "text/plain": [
              "Plot with title \"PACF - Dépenses de R&D\""
            ]
          },
          "metadata": {},
          "output_type": "display_data"
        }
      ],
      "source": [
        "pacf_dépenses <- pacf(data_dépenses$dépenses, main = \"PACF - Dépenses de R&D\")"
      ]
    },
    {
      "cell_type": "markdown",
      "id": "e57d7042",
      "metadata": {
        "id": "e57d7042"
      },
      "source": [
        "<span style=\"color:blue;\">**<ins>Commentaire<ins>** : Le taux de chômage aux Etats-Unis connait des grandes fluctuations sur toute la période estimée</span>"
      ]
    },
    {
      "cell_type": "markdown",
      "id": "4b9fb510",
      "metadata": {
        "id": "4b9fb510"
      },
      "source": [
        "### 3. La productivité du travail aux Etats-Unis de 1970 à 2021"
      ]
    },
    {
      "cell_type": "markdown",
      "id": "defc50ac",
      "metadata": {
        "id": "defc50ac"
      },
      "source": [
        "<ins>Etape préliminaire</ins> : transformation des données en log pour donner davantage d'importance aux faibles variations et pour"
      ]
    },
    {
      "cell_type": "code",
      "execution_count": null,
      "id": "d1278c0d",
      "metadata": {
        "id": "d1278c0d",
        "outputId": "f8a57510-a998-46c6-889d-9510876b09e1"
      },
      "outputs": [
        {
          "name": "stderr",
          "output_type": "stream",
          "text": [
            "Warning message in productivité$logPIB <- log(productivité):\n",
            "\"Conversion automatique de LHS en liste\""
          ]
        }
      ],
      "source": [
        "productivité$logPIB <- log(productivité)"
      ]
    },
    {
      "cell_type": "markdown",
      "id": "e263ee54",
      "metadata": {
        "id": "e263ee54"
      },
      "source": [
        "Création d'un data frame avec le chômage et les dates pour faciliter la construction du graphique."
      ]
    },
    {
      "cell_type": "code",
      "execution_count": null,
      "id": "242ccf4a",
      "metadata": {
        "id": "242ccf4a"
      },
      "outputs": [],
      "source": [
        "data <- data.frame(\n",
        "  dates = Base$Dates,\n",
        "  productivité$logPIB\n",
        ")\n"
      ]
    },
    {
      "cell_type": "markdown",
      "id": "7485630c",
      "metadata": {
        "id": "7485630c"
      },
      "source": [
        "#### Affichage du graphique"
      ]
    },
    {
      "cell_type": "code",
      "execution_count": null,
      "id": "48ae5b36",
      "metadata": {
        "id": "48ae5b36",
        "outputId": "b9884ebd-6500-40a4-eba7-4ad083efb7d4"
      },
      "outputs": [
        {
          "data": {
            "image/png": "[encoded data removed]",
            "text/plain": [
              "plot without title"
            ]
          },
          "metadata": {},
          "output_type": "display_data"
        }
      ],
      "source": [
        "p_productivité <- ggplot(data = data, aes(x = dates, y = productivité$logPIB)) +\n",
        "  geom_point(color = 'red') +\n",
        "  geom_line(color = 'red') +\n",
        "  xlab('Date') +\n",
        "  ylab('Productivité du travail') +\n",
        "  labs(y = \"Productivité\", title = \"Productivité du travail aux Etats-Unis\", subtitle = \"de 1970 à 2021\") +\n",
        "  theme(\n",
        "    plot.title = element_text(size = 13, face = \"bold\"),\n",
        "    plot.subtitle = element_text(size = 12),\n",
        "    axis.text = element_text(size = 9),\n",
        "    axis.title = element_text(size = 12, face = \"bold\")\n",
        "  )\n",
        "\n",
        "print(p_productivité)\n"
      ]
    },
    {
      "cell_type": "markdown",
      "id": "e35454f8",
      "metadata": {
        "id": "e35454f8"
      },
      "source": [
        "### Autocorrélogramme simple"
      ]
    },
    {
      "cell_type": "code",
      "execution_count": null,
      "id": "8ed7ac5a",
      "metadata": {
        "id": "8ed7ac5a",
        "outputId": "406d4d1a-712b-4352-f9d7-93951262d9ee"
      },
      "outputs": [
        {
          "data": {
            "image/png": "[encoded data removed]",
            "text/plain": [
              "Plot with title \"ACF - Productivité du travail\""
            ]
          },
          "metadata": {},
          "output_type": "display_data"
        }
      ],
      "source": [
        "acf_productivité <- acf(data_productivité$productivité, main = \"ACF - Productivité du travail\")"
      ]
    },
    {
      "cell_type": "markdown",
      "id": "1a25cb72",
      "metadata": {
        "id": "1a25cb72"
      },
      "source": [
        "###  Autocorrélogramme partiel"
      ]
    },
    {
      "cell_type": "code",
      "execution_count": null,
      "id": "03896ba2",
      "metadata": {
        "id": "03896ba2"
      },
      "outputs": [],
      "source": [
        "pacf_productivité <- pacf(data_productivité$productivité, main = \"PACF - Productivité du travail\")"
      ]
    },
    {
      "cell_type": "markdown",
      "id": "b43b5a0c",
      "metadata": {
        "id": "b43b5a0c"
      },
      "source": [
        "<span style=\"color:blue;\">**<ins>Commentaire<ins>** : Le taux de chômage aux Etats-Unis connait des grandes fluctuations sur toute la période estimée</span>"
      ]
    },
    {
      "cell_type": "markdown",
      "id": "c7a50528",
      "metadata": {
        "id": "c7a50528"
      },
      "source": [
        "## Stratégie de test unitaire : test de Dickey-Fuller augmenté"
      ]
    },
    {
      "cell_type": "markdown",
      "id": "202c96c2",
      "metadata": {
        "id": "202c96c2"
      },
      "source": [
        "### 1. Le chômage aux Etats-Unis entre 1970 et 2021"
      ]
    },
    {
      "cell_type": "markdown",
      "id": "7c36406f",
      "metadata": {
        "id": "7c36406f"
      },
      "source": [
        "On applique le test ADF avec une constante et une tendance déterministe. Le nombre de retards maximum est fixé à 8 et le nombre de retards optimal est déterminé par la minimisation du critère AIC."
      ]
    },
    {
      "cell_type": "markdown",
      "id": "19cd51aa",
      "metadata": {
        "id": "19cd51aa"
      },
      "source": [
        "**Etape 1 : avec constante et tendance déterministe**"
      ]
    },
    {
      "cell_type": "code",
      "execution_count": null,
      "id": "68d4cfb7",
      "metadata": {
        "id": "68d4cfb7",
        "outputId": "2a79b7ca-9741-4eb1-90cd-50a020c79937"
      },
      "outputs": [
        {
          "data": {
            "text/plain": [
              "\n",
              "############################################### \n",
              "# Augmented Dickey-Fuller Test Unit Root Test # \n",
              "############################################### \n",
              "\n",
              "Test regression trend \n",
              "\n",
              "\n",
              "Call:\n",
              "lm(formula = z.diff ~ z.lag.1 + 1 + tt + z.diff.lag)\n",
              "\n",
              "Residuals:\n",
              "      Min        1Q    Median        3Q       Max \n",
              "-0.027859 -0.006137 -0.003183  0.004462  0.038676 \n",
              "\n",
              "Coefficients:\n",
              "              Estimate Std. Error t value Pr(>|t|)   \n",
              "(Intercept)  0.0286461  0.0099348   2.883  0.00637 **\n",
              "z.lag.1     -0.3793019  0.1208865  -3.138  0.00324 **\n",
              "tt          -0.0001744  0.0001471  -1.186  0.24296   \n",
              "z.diff.lag   0.2620170  0.1659396   1.579  0.12242   \n",
              "---\n",
              "Signif. codes:  0 '***' 0.001 '**' 0.01 '*' 0.05 '.' 0.1 ' ' 1\n",
              "\n",
              "Residual standard error: 0.01138 on 39 degrees of freedom\n",
              "Multiple R-squared:  0.2042,\tAdjusted R-squared:  0.143 \n",
              "F-statistic: 3.335 on 3 and 39 DF,  p-value: 0.02906\n",
              "\n",
              "\n",
              "Value of test-statistic is: -3.1377 3.3084 4.9577 \n",
              "\n",
              "Critical values for test statistics: \n",
              "      1pct  5pct 10pct\n",
              "tau3 -4.04 -3.45 -3.15\n",
              "phi2  6.50  4.88  4.16\n",
              "phi3  8.73  6.49  5.47\n"
            ]
          },
          "metadata": {},
          "output_type": "display_data"
        }
      ],
      "source": [
        "adf1<-ur.df(y = chômage,type=c(\"trend\"), lag=8, selectlags = c('AIC'))\n",
        "summary(adf1)"
      ]
    },
    {
      "cell_type": "markdown",
      "id": "5ac8cbe6",
      "metadata": {
        "id": "5ac8cbe6"
      },
      "source": [
        "<span style=\"color:blue;\">**<ins>Commentaire<ins>** :\n",
        "La statistique du test ADF est égale à $t_{\\text{ADF}}=-3,138$.\n",
        "Les seuils de rejet figurent sur la ligne tau3. Pour un risque de première espèce de 5% $t_{\\text{ADF}}=-3,138 >-3,45$\n",
        "\n",
        "<span style=\"color:blue;\"> On ne rejette pas l'hypothèse nulle de racine unitaire. La statistique de test est aussi supérieure aux seuils de rejet pour les risques de première espèce de 1% et 10%.</span>"
      ]
    },
    {
      "cell_type": "markdown",
      "source": [],
      "metadata": {
        "id": "1dhOEUjC6IM0"
      },
      "id": "1dhOEUjC6IM0"
    },
    {
      "cell_type": "markdown",
      "id": "e8ecf417",
      "metadata": {
        "id": "e8ecf417"
      },
      "source": [
        "**Etape 2 : avec constante**:"
      ]
    },
    {
      "cell_type": "code",
      "execution_count": null,
      "id": "e4c446c4",
      "metadata": {
        "id": "e4c446c4"
      },
      "outputs": [],
      "source": [
        "adf2<-ur.df(y = chômage,type=c(\"drift\"), lag=8, selectlags = c('AIC'))\n",
        "summary(adf2)"
      ]
    },
    {
      "cell_type": "markdown",
      "id": "017a376f",
      "metadata": {
        "id": "017a376f"
      },
      "source": [
        "<span style=\"color:blue;\">**<ins>Commentaire<ins>** :\n",
        "La statistique du test ADF est égale à $t_{\\text{ADF}}=-3,138$.\n",
        "Les seuils de rejet figurent sur la ligne tau3. Pour un risque de première espèce de 5% $t_{\\text{ADF}}=-3,138 >-3,45$\n",
        "\n",
        "<span style=\"color:blue;\"> On ne rejette pas l'hypothèse nulle de racine unitaire. La statistique de test est aussi supérieure aux seuils de rejet pour les risques de première espèce de 1% et 10%.</span>"
      ]
    },
    {
      "cell_type": "markdown",
      "id": "d852bf97",
      "metadata": {
        "id": "d852bf97"
      },
      "source": [
        "**Etape 3: Sans constante ni tendance déterministe**"
      ]
    },
    {
      "cell_type": "code",
      "execution_count": null,
      "id": "61dfc2ef",
      "metadata": {
        "id": "61dfc2ef"
      },
      "outputs": [],
      "source": [
        "adf3<-ur.df(y = chômage,type=c(\"none\"), lag=8, selectlags = c('AIC'))\n",
        "summary(adf3)"
      ]
    },
    {
      "cell_type": "markdown",
      "id": "eb1ebe9c",
      "metadata": {
        "id": "eb1ebe9c"
      },
      "source": [
        "<span style=\"color:blue;\">**<ins>Commentaire<ins>** :\n",
        "La statistique du test ADF est égale à $t_{\\text{ADF}}=-3,138$.\n",
        "Les seuils de rejet figurent sur la ligne tau3. Pour un risque de première espèce de 5% $t_{\\text{ADF}}=-3,138 >-3,45$\n",
        "\n",
        "<span style=\"color:blue;\"> On ne rejette pas l'hypothèse nulle de racine unitaire. La statistique de test est aussi supérieure aux seuils de rejet pour les risques de première espèce de 1% et 10%.</span>"
      ]
    },
    {
      "cell_type": "markdown",
      "id": "e0bb20e3",
      "metadata": {
        "id": "e0bb20e3"
      },
      "source": [
        "**Conclusion sur les résultats de tests ADF**"
      ]
    },
    {
      "cell_type": "markdown",
      "id": "f186b1fd",
      "metadata": {
        "id": "f186b1fd"
      },
      "source": [
        "<span style=\"color:red;\">**<ins>Commentaire<ins>** :\n",
        "La statistique du test ADF est égale à $t_{\\text{ADF}}=-3,138$.\n",
        "Les seuils de rejet figurent sur la ligne tau3. Pour un risque de première espèce de 5% $t_{\\text{ADF}}=-3,138 >-3,45$\n",
        "\n",
        "<span style=\"color:red;\"> On ne rejette pas l'hypothèse nulle de racine unitaire. La statistique de test est aussi supérieure aux seuils de rejet pour les risques de première espèce de 1% et 10%.</span>"
      ]
    },
    {
      "cell_type": "markdown",
      "id": "16b55c4a",
      "metadata": {
        "id": "16b55c4a"
      },
      "source": [
        " ### 2. Les dépenses de R&D aux Etats-Unis de 1970 à 2021"
      ]
    },
    {
      "cell_type": "markdown",
      "id": "e3c0f194",
      "metadata": {
        "id": "e3c0f194"
      },
      "source": [
        "On applique le test ADF avec une constante et une tendance déterministe. Le nombre de retards maximum est fixé à 8 et le nombre de retards optimal est déterminé par la minimisation du critère AIC."
      ]
    },
    {
      "cell_type": "markdown",
      "id": "432a4211",
      "metadata": {
        "id": "432a4211"
      },
      "source": [
        "**Etape 1 : avec constante et tendance déterministe**"
      ]
    },
    {
      "cell_type": "code",
      "execution_count": null,
      "id": "e2c2b9fb",
      "metadata": {
        "id": "e2c2b9fb"
      },
      "outputs": [],
      "source": [
        "adf1<-ur.df(y = dépenses,type=c(\"trend\"), lag=8, selectlags = c('AIC'))\n",
        "summary(adf1)"
      ]
    },
    {
      "cell_type": "markdown",
      "id": "6727b752",
      "metadata": {
        "id": "6727b752"
      },
      "source": [
        "<span style=\"color:blue;\">**<ins>Commentaire<ins>** :\n",
        "La statistique du test ADF est égale à $t_{\\text{ADF}}=-3,138$.\n",
        "Les seuils de rejet figurent sur la ligne tau3. Pour un risque de première espèce de 5% $t_{\\text{ADF}}=-3,138 >-3,45$\n",
        "\n",
        "<span style=\"color:blue;\"> On ne rejette pas l'hypothèse nulle de racine unitaire. La statistique de test est aussi supérieure aux seuils de rejet pour les risques de première espèce de 1% et 10%.</span>"
      ]
    },
    {
      "cell_type": "markdown",
      "id": "f96f6d48",
      "metadata": {
        "id": "f96f6d48"
      },
      "source": [
        "**Etape 2 : avec constante**"
      ]
    },
    {
      "cell_type": "code",
      "execution_count": null,
      "id": "5bc54c9a",
      "metadata": {
        "id": "5bc54c9a"
      },
      "outputs": [],
      "source": [
        "adf2<-ur.df(y = dépenses,type=c(\"drift\"), lag=8, selectlags = c('AIC'))\n",
        "summary(adf2)"
      ]
    },
    {
      "cell_type": "markdown",
      "id": "10f8306d",
      "metadata": {
        "id": "10f8306d"
      },
      "source": [
        "<span style=\"color:blue;\">**<ins>Commentaire<ins>** :\n",
        "La statistique du test ADF est égale à $t_{\\text{ADF}}=-3,138$.\n",
        "Les seuils de rejet figurent sur la ligne tau3. Pour un risque de première espèce de 5% $t_{\\text{ADF}}=-3,138 >-3,45$\n",
        "\n",
        "<span style=\"color:blue;\"> On ne rejette pas l'hypothèse nulle de racine unitaire. La statistique de test est aussi supérieure aux seuils de rejet pour les risques de première espèce de 1% et 10%.</span>"
      ]
    },
    {
      "cell_type": "markdown",
      "id": "ee5180d6",
      "metadata": {
        "id": "ee5180d6"
      },
      "source": [
        "**Etape 3: Sans constante ni tendance déterministe**"
      ]
    },
    {
      "cell_type": "code",
      "execution_count": null,
      "id": "247177cd",
      "metadata": {
        "id": "247177cd"
      },
      "outputs": [],
      "source": [
        "adf3<-ur.df(y = dépenses,type=c(\"none\"), lag=8, selectlags = c('AIC'))\n",
        "summary(adf3)"
      ]
    },
    {
      "cell_type": "markdown",
      "id": "964952a9",
      "metadata": {
        "id": "964952a9"
      },
      "source": [
        "<span style=\"color:blue;\">**<ins>Commentaire<ins>** :\n",
        "La statistique du test ADF est égale à $t_{\\text{ADF}}=-3,138$.\n",
        "Les seuils de rejet figurent sur la ligne tau3. Pour un risque de première espèce de 5% $t_{\\text{ADF}}=-3,138 >-3,45$\n",
        "\n",
        "<span style=\"color:blue;\"> On ne rejette pas l'hypothèse nulle de racine unitaire. La statistique de test est aussi supérieure aux seuils de rejet pour les risques de première espèce de 1% et 10%.</span>"
      ]
    },
    {
      "cell_type": "markdown",
      "id": "73f188d7",
      "metadata": {
        "id": "73f188d7"
      },
      "source": [
        "**Conclusion sur les résultats de tests ADF**"
      ]
    },
    {
      "cell_type": "markdown",
      "id": "5870ccc1",
      "metadata": {
        "id": "5870ccc1"
      },
      "source": [
        "<span style=\"color:red;\">**<ins>Commentaire<ins>** :\n",
        "La statistique du test ADF est égale à $t_{\\text{ADF}}=-3,138$.\n",
        "Les seuils de rejet figurent sur la ligne tau3. Pour un risque de première espèce de 5% $t_{\\text{ADF}}=-3,138 >-3,45$\n",
        "\n",
        "<span style=\"color:red;\"> On ne rejette pas l'hypothèse nulle de racine unitaire. La statistique de test est aussi supérieure aux seuils de rejet pour les risques de première espèce de 1% et 10%.</span>"
      ]
    },
    {
      "cell_type": "markdown",
      "id": "1252a29a",
      "metadata": {
        "id": "1252a29a"
      },
      "source": [
        "### 3. La productivité du travail aux Etats-Unis de 1970 à 2021"
      ]
    },
    {
      "cell_type": "markdown",
      "id": "e4c737c4",
      "metadata": {
        "id": "e4c737c4"
      },
      "source": [
        "On applique le test ADF avec une constante et une tendance déterministe. Le nombre de retards maximum est fixé à 8 et le nombre de retards optimal est déterminé par la minimisation du critère AIC."
      ]
    },
    {
      "cell_type": "markdown",
      "id": "6c5f4374",
      "metadata": {
        "id": "6c5f4374"
      },
      "source": [
        "**Etape 1 : avec constante et tendance déterministe**"
      ]
    },
    {
      "cell_type": "code",
      "execution_count": null,
      "id": "bf95437f",
      "metadata": {
        "id": "bf95437f",
        "outputId": "0d564015-a0c9-4208-d755-8b7703968a3b"
      },
      "outputs": [
        {
          "ename": "ERROR",
          "evalue": "Error in r[i1] - r[-length(r):-(length(r) - lag + 1L)]: argument non numérique pour un opérateur binaire\n",
          "output_type": "error",
          "traceback": [
            "Error in r[i1] - r[-length(r):-(length(r) - lag + 1L)]: argument non numérique pour un opérateur binaire\nTraceback:\n",
            "1. ur.df(y = productivité, type = c(\"trend\"), lag = 8, selectlags = c(\"AIC\"))",
            "2. diff(y)",
            "3. diff.default(y)"
          ]
        }
      ],
      "source": [
        "adf1<-ur.df(y = productivité,type=c(\"trend\"), lag=8, selectlags = c('AIC'))\n",
        "summary(adf1)"
      ]
    },
    {
      "cell_type": "markdown",
      "id": "dbaddeb6",
      "metadata": {
        "id": "dbaddeb6"
      },
      "source": [
        "<span style=\"color:blue;\">**<ins>Commentaire<ins>** :\n",
        "La statistique du test ADF est égale à $t_{\\text{ADF}}=-3,138$.\n",
        "Les seuils de rejet figurent sur la ligne tau3. Pour un risque de première espèce de 5% $t_{\\text{ADF}}=-3,138 >-3,45$\n",
        "\n",
        "<span style=\"color:blue;\"> On ne rejette pas l'hypothèse nulle de racine unitaire. La statistique de test est aussi supérieure aux seuils de rejet pour les risques de première espèce de 1% et 10%.</span>"
      ]
    },
    {
      "cell_type": "markdown",
      "id": "0053e1a5",
      "metadata": {
        "id": "0053e1a5"
      },
      "source": [
        "**Etape 2 : avec constante**"
      ]
    },
    {
      "cell_type": "code",
      "execution_count": null,
      "id": "e89d6772",
      "metadata": {
        "id": "e89d6772"
      },
      "outputs": [],
      "source": [
        "adf2<-ur.df(y = productivité,type=c(\"drift\"), lag=8, selectlags = c('AIC'))\n",
        "summary(adf2)"
      ]
    },
    {
      "cell_type": "markdown",
      "id": "1975ff98",
      "metadata": {
        "id": "1975ff98"
      },
      "source": [
        "<span style=\"color:blue;\">**<ins>Commentaire<ins>** :\n",
        "La statistique du test ADF est égale à $t_{\\text{ADF}}=-3,138$.\n",
        "Les seuils de rejet figurent sur la ligne tau3. Pour un risque de première espèce de 5% $t_{\\text{ADF}}=-3,138 >-3,45$\n",
        "\n",
        "<span style=\"color:blue;\"> On ne rejette pas l'hypothèse nulle de racine unitaire. La statistique de test est aussi supérieure aux seuils de rejet pour les risques de première espèce de 1% et 10%.</span>"
      ]
    },
    {
      "cell_type": "markdown",
      "id": "2db56bb1",
      "metadata": {
        "id": "2db56bb1"
      },
      "source": [
        "### 3. La productivité du travail aux Etats-Unis de 1970 à 2021"
      ]
    },
    {
      "cell_type": "code",
      "execution_count": null,
      "id": "1483dda1",
      "metadata": {
        "id": "1483dda1"
      },
      "outputs": [],
      "source": [
        "adf3<-ur.df(y = dépenses,type=c(\"none\"), lag=8, selectlags = c('AIC'))\n",
        "summary(adf3)"
      ]
    },
    {
      "cell_type": "markdown",
      "id": "f78bde36",
      "metadata": {
        "id": "f78bde36"
      },
      "source": [
        "<span style=\"color:blue;\">**<ins>Commentaire<ins>** :\n",
        "La statistique du test ADF est égale à $t_{\\text{ADF}}=-3,138$.\n",
        "Les seuils de rejet figurent sur la ligne tau3. Pour un risque de première espèce de 5% $t_{\\text{ADF}}=-3,138 >-3,45$\n",
        "\n",
        "<span style=\"color:blue;\"> On ne rejette pas l'hypothèse nulle de racine unitaire. La statistique de test est aussi supérieure aux seuils de rejet pour les risques de première espèce de 1% et 10%.</span>"
      ]
    },
    {
      "cell_type": "markdown",
      "id": "c747be4d",
      "metadata": {
        "id": "c747be4d"
      },
      "source": [
        "**Conclusion sur les résultats de tests ADF**"
      ]
    },
    {
      "cell_type": "markdown",
      "id": "6326d6c9",
      "metadata": {
        "id": "6326d6c9"
      },
      "source": [
        "<span style=\"color:red;\">**<ins>Commentaire<ins>** :\n",
        "La statistique du test ADF est égale à $t_{\\text{ADF}}=-3,138$.\n",
        "Les seuils de rejet figurent sur la ligne tau3. Pour un risque de première espèce de 5% $t_{\\text{ADF}}=-3,138 >-3,45$\n",
        "\n",
        "<span style=\"color:red;\"> On ne rejette pas l'hypothèse nulle de racine unitaire. La statistique de test est aussi supérieure aux seuils de rejet pour les risques de première espèce de 1% et 10%.</span>"
      ]
    }
  ],
  "metadata": {
    "kernelspec": {
      "display_name": "R",
      "language": "R",
      "name": "ir"
    },
    "language_info": {
      "codemirror_mode": "r",
      "file_extension": ".r",
      "mimetype": "text/x-r-source",
      "name": "R",
      "pygments_lexer": "r",
      "version": "3.6.1"
    },
    "colab": {
      "provenance": [],
      "include_colab_link": true
    }
  },
  "nbformat": 4,
  "nbformat_minor": 5
}